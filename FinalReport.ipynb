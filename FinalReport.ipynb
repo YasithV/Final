{
 "cells": [
  {
   "cell_type": "markdown",
   "metadata": {},
   "source": [
    "<h1>Best Place for a Restaurant</h1>"
   ]
  },
  {
   "cell_type": "markdown",
   "metadata": {},
   "source": [
    "<h3>1) Introduction/Business Problem</h3>"
   ]
  },
  {
   "cell_type": "markdown",
   "metadata": {},
   "source": [
    "Imagine that a vendor needs to start a business: a restaurant/cafe in the state of California. The first problem would be the selection of a location to establish a physical facility. The place should be selected considering <em>minimizing the costs</em> and <em>maximizing the generation of income</em>. These depend on several other factors. The most important information to consider is the number of restaurants/cafes that are already available in the neighborhood. Other than this basic factor, information such as the population of the neighborhood, public places/tourist attractions in the neighborhood also plays a major role in the success of such an establishment.\n",
    "\n",
    "Though an entrepreneur can do a basic identification of an opportunity by simply looking at basic factors, to see the big picture including minor details, a thorough analysis is essential. A clear idea about the competitors and the target groups in a certain neighborhood can be generated using data scientific analysis: clustering.\n",
    "\n",
    "Using data science tools, a powerful insight can be generated and the generated insights can be presented in an easy to understand format, with the help of visualization tools. A system developed for this task can be altered according to the need of a client with minimal changes in the code which makes the system very useful to a client universally.\n",
    "\n",
    "The target audience of this system includes, entrepreneurs who are planning to start a new business in town, business owners who are planning to move their already established business in to a more profitable place and restaurent\\cafe chains who are trying to create branches and expand their customer base in new areas."
   ]
  },
  {
   "cell_type": "markdown",
   "metadata": {},
   "source": [
    "<h3>2) Data</h3>"
   ]
  },
  {
   "cell_type": "markdown",
   "metadata": {},
   "source": [
    "The data that will be used for this analysis ranges in several different aspects. The basic dataset would contain a list of cities in California with their latitudes and longitudes. The most important type of data would be the data on competitors in the neighborhood. The existing cafes/restaurants/food courts will be taken into consideration. These data can be obtained using the foursquare API using the location data. Data on the population of particular cities will also acquired using the government population data from \"https://worldpopulationreview.com/\". Finally, the other geographical factors such as public places/tourist attractions would be added to the dataset using the foursquare API.\n",
    "\n",
    "As an examlple of how ML can be used with these data, let's consider Los Angeles. Using the data from the sources mentioned above, information will be extracted about the existing restaurents, public areas and population in the area. This will define a characteristic quality of the city which will be used to group it with cities with similar qualties. By anlyzing the groups, a conclusion will be obtained.\n",
    "\n",
    "As described above, by analyzing the data and subjecting it to a clustering algorithm, a suitable cluster for the new establishment would be determined."
   ]
  },
  {
   "cell_type": "markdown",
   "metadata": {},
   "source": [
    "<h3> 3) Methodology</h3>"
   ]
  },
  {
   "cell_type": "markdown",
   "metadata": {},
   "source": [
    "This Project was carried out in the below stated methodology. A more detailed description is stated below.\n",
    "\n",
    "1- Creating the dataframe with zip code, city and population data from \"https://worldpopulationreview.com/\" <br>\n",
    "2- Using the geodata csv file data to obtain latitude and longitude data <br>\n",
    "3- Selecting the 100 most populated zip code areas for the analysis <br> \n",
    "4- Using the foursquare data to obtain the data about the nature of the neighborhood <br>\n",
    "5- Categorizing the data of significant venues in to main categories <br>\n",
    "6- Using one hot encoding and mean to identify top venues for each area <br>\n",
    "7- Using kmeans to cluster the areas<br>\n",
    "8- Viewing the resultant clusters in tabular and map format and analzing them <br>\n",
    "9- Conclusion\n"
   ]
  },
  {
   "cell_type": "markdown",
   "metadata": {},
   "source": [
    "**1- Creating the dataframe with zip code, city and population data from \"https://worldpopulationreview.com/\" <br>**\n",
    "The first dataframe with basic zip code and popualation data is as follows.<br>\n",
    "![title](1.JPG)"
   ]
  },
  {
   "cell_type": "markdown",
   "metadata": {},
   "source": [
    "**2- Using the geodata csv file data to obtain latitude and longitude data <br>**\n",
    "The geodata csv file provides latitude and longitude data for each zipcode. Here is what it looks like in a dataframe.\n",
    "![title](2.JPG)<br>\n",
    "After creating those two dataframes, bot of them are merged into a single dataframe\n",
    "![title](3.JPG)<br>"
   ]
  },
  {
   "cell_type": "markdown",
   "metadata": {},
   "source": [
    "**3- Selecting the 100 most populated zip code areas for the analysis <br>**\n",
    "Since this analysis is done with a business purpose, to maximize the profit, it is essential to reach a greater number of customers. Therefore, out of the list of zipcodes, the 100 most populated areas are selected for the system to analyze.<br>\n",
    "The new dataframe sorted by the population is shown below.<br>\n",
    "![title](4.JPG)<br>\n",
    "Showan below is a map with the selected zip codes marked in blue<br>\n",
    "![title](5.JPG)<br>"
   ]
  },
  {
   "cell_type": "markdown",
   "metadata": {},
   "source": [
    "**4- Using the foursquare data to obtain the data about the nature of the neighborhood <br>**\n",
    "Using the obtained latitude and longitude data, a new dataset of the nearby venues for each zip code is obtained by calling the foursquare API.\n",
    "![title](6.JPG)<br>"
   ]
  },
  {
   "cell_type": "markdown",
   "metadata": {},
   "source": [
    "**5- Categorizing the data of significant venues in to main categories <br>**\n",
    "For this analysis it is essential to categorize the competitors properly. It is the main components of the analysis. Therefore, all the venues that belongs in to restaurant/cafe category should be identified and recategorized with suitable categories.<br>\n",
    "ex - Chinese Restaurant, Italain Retaurant, French Restauran should be in the single category: Retaurents<br>\n",
    "![title](7.JPG)<br>"
   ]
  },
  {
   "cell_type": "markdown",
   "metadata": {},
   "source": [
    "# **6- Using one hot encoding and mean to identify top venues for each area <br>**\n",
    "The one hot encoding method is used to prepare the data in to the analyzing format of k means clustering. This is the only statistical step in this process<br>\n",
    "![title](8.JPG)<br>\n",
    "And the means are used to define the top venue categories for each zipcode<br>\n",
    "![title](9.JPG)<br>\n",
    "Then the prepared data is sent in to a new dataframe.<br>\n",
    "![title](10.JPG)<br>\n",
    "Now everything is ready for the analysis"
   ]
  },
  {
   "cell_type": "code",
   "execution_count": null,
   "metadata": {},
   "outputs": [],
   "source": []
  },
  {
   "cell_type": "markdown",
   "metadata": {},
   "source": [
    "**7- Using kmeans to cluster the areas<br>**\n",
    "K means clustering is selected as the machine learning algorithm foe this analysis. It was selected mainly because this analysis is an unsuoervised analysis since there is not training data for a specific result to be produced. From the existing unsupervied clustering methods, K-Means was selected because it is the most suitable algorithm to create a result group as needed in this project.<br>\n"
   ]
  },
  {
   "cell_type": "markdown",
   "metadata": {},
   "source": [
    "**8- Viewing the resultant clusters in tabular and map format and analzing them <br>**\n",
    "The reults of the analysis is shown below in both tabular and map formats<br>\n",
    "![title](11.JPG)<br>\n",
    "![title](12.JPG)<br>"
   ]
  },
  {
   "cell_type": "markdown",
   "metadata": {},
   "source": [
    "**9- Conclusion**<br>\n",
    "The nature of each clusted was analyzed in the tablular format and conclusions were obtained."
   ]
  },
  {
   "cell_type": "markdown",
   "metadata": {},
   "source": [
    "<h3>4) Results</h3><br>\n",
    "Clusters: <br>\n",
    "\n",
    "![title](11.JPG)<br>\n",
    "![title](12.JPG)<br>\n",
    "<br><br>\n",
    "The nature of each cluster is shown below.<br>\n",
    "![title](13.JPG)<br>\n",
    "![title](14.JPG)<br>\n",
    "![title](15.JPG)<br>\n",
    "![title](16.JPG)<br>\n",
    "![title](17.JPG)<br>\n",
    "![title](18.JPG)<br>\n",
    "![title](19.JPG)<br>\n",
    "![title](20.JPG)<br>"
   ]
  },
  {
   "cell_type": "markdown",
   "metadata": {},
   "source": [
    "<h3>5) Discussion</h3>\n",
    "By Observing the results we can see that the zip codes are categorized in to clusters based on the venues in their neighbourhoods.<br> Since we previously recategorize the venues that are most significant to the analysis, we can see that the zip codes that predominantly have restaurents and cafes are categorized together. Therefore we can leave out the cluster 0 without any issue. Similarly, cluster 3 also can be ignored based on boservation. All the other clusters seem to be almost the same in this persepective. Therefore, we have to focus on the other type of venues after that.<br>\n",
    "When we observe the other clusters, we can see that cluster 2 has a most significant venue as park, cluster 1 as resort, 4 dog run, 5 trail, 6 well and 7 playground. From this observation we can eliminate cluster 1, 5,4, and 6 since they are not places with a lot of people.\n",
    "And from similarly analyzing the remainig two clusters, we can identify cluster 2 as the most suitable place to start a restaurant since it has no existing restarents and highly populated venues around."
   ]
  },
  {
   "cell_type": "markdown",
   "metadata": {},
   "source": [
    "<h3> 6) Conclusion</h3>"
   ]
  },
  {
   "cell_type": "markdown",
   "metadata": {},
   "source": [
    "As the conclusion, we can say that Machine Learning with data science can be used to solve business problems in a wide range. This project depicts just a very basic analysis considering the establishment of a business place. The beginning. This was done using just several free datasets and a free packege of foursquare API. Even with the basics we could develop a system that can analyze data and give a significan outcome. With the eourmous amount of data that is accessible on the internet, datascience could be the main tool in decision making in the future."
   ]
  },
  {
   "cell_type": "code",
   "execution_count": null,
   "metadata": {},
   "outputs": [],
   "source": []
  }
 ],
 "metadata": {
  "kernelspec": {
   "display_name": "Python",
   "language": "python",
   "name": "conda-env-python-py"
  },
  "language_info": {
   "codemirror_mode": {
    "name": "ipython",
    "version": 3
   },
   "file_extension": ".py",
   "mimetype": "text/x-python",
   "name": "python",
   "nbconvert_exporter": "python",
   "pygments_lexer": "ipython3",
   "version": "3.6.11"
  }
 },
 "nbformat": 4,
 "nbformat_minor": 4
}
